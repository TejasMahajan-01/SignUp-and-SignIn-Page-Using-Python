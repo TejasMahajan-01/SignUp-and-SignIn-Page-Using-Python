{
  "cells": [
    {
      "cell_type": "markdown",
      "metadata": {
        "id": "view-in-github",
        "colab_type": "text"
      },
      "source": [
        "<a href=\"https://colab.research.google.com/github/TejasMahajan02/Experimental-Notebooks/blob/main/login.ipynb\" target=\"_parent\"><img src=\"https://colab.research.google.com/assets/colab-badge.svg\" alt=\"Open In Colab\"/></a>"
      ]
    },
    {
      "cell_type": "markdown",
      "id": "bb9ef826-78fa-4c9c-80de-045454d2ed62",
      "metadata": {
        "id": "bb9ef826-78fa-4c9c-80de-045454d2ed62"
      },
      "source": [
        "  "
      ]
    },
    {
      "cell_type": "markdown",
      "id": "924d1c0a-16e8-4318-ad65-27168e0ab0f3",
      "metadata": {
        "tags": [],
        "id": "924d1c0a-16e8-4318-ad65-27168e0ab0f3"
      },
      "source": [
        "<blockquote> <h3> Project Title </h3> </blockquote>\n",
        "<h1 style = 'color:#0C73D1;' > Sign Up and Sign In Page Using Python </h1>"
      ]
    },
    {
      "cell_type": "markdown",
      "id": "9611ddcf-95dd-4560-b9a5-3716ca5397e8",
      "metadata": {
        "id": "9611ddcf-95dd-4560-b9a5-3716ca5397e8"
      },
      "source": [
        "With the help of conditional formatting, I created a program in Python that functions as a sign-up and sign-in page. I demonstrated the programme utilising both local and permanent variables and databases. Even though this isn't a genuine website, it functions in a manner akin to how real websites do. If you do not meet all the requirements, such as having a valid username, email address, and password that combines letters, digits, and punctuation, you cannot proceed. It also checks if the user name and email have already been registered."
      ]
    },
    {
      "cell_type": "markdown",
      "id": "12f11754-66b5-4d07-84c3-4c35df3b1b3b",
      "metadata": {
        "id": "12f11754-66b5-4d07-84c3-4c35df3b1b3b"
      },
      "source": [
        "***"
      ]
    },
    {
      "cell_type": "markdown",
      "id": "879f23ac-5736-449a-96af-754c59a98fd0",
      "metadata": {
        "id": "879f23ac-5736-449a-96af-754c59a98fd0"
      },
      "source": [
        "## Using Local Variables\n",
        "When creating a Sign Up/Sign In program, using local variables to store data only works in notebook-like environments. This is because local variables are lost when you re-run the code. In environments like Jupyter Notebook, you can use multiple cells and run each cell separately. In one cell, you can define the local variables, and in another cell, you can use them to store and retrieve information.\n",
        "\n",
        "However, in an IDE-like environment, you cannot use local variables to store data in the same way. If you run the entire .py file, then all the code runs from top to bottom, and all the previous data that local variables store will be lost. Instead, you can run a selected area of your file, or you need to comment or uncomment them if you want to run the entire file. \n",
        "\n",
        "To solve this problem, you can use databases like SQLite or other DBMS (Database Management Systems). Databases allow you to store data permanently and retrieve it even if you run the overall program again."
      ]
    },
    {
      "cell_type": "code",
      "execution_count": null,
      "id": "85527a90-8137-466e-8ed9-757e917855a9",
      "metadata": {
        "colab": {
          "base_uri": "https://localhost:8080/"
        },
        "id": "85527a90-8137-466e-8ed9-757e917855a9",
        "outputId": "e799c366-33dc-477d-e09b-a2c92a40703e"
      },
      "outputs": [
        {
          "output_type": "stream",
          "name": "stdout",
          "text": [
            "Modules are loaded.\n"
          ]
        }
      ],
      "source": [
        "# load required libraries\n",
        "import random\n",
        "import string\n",
        "import pandas as pd\n",
        "import re\n",
        "import time\n",
        "print(\"Modules are loaded.\")"
      ]
    },
    {
      "cell_type": "markdown",
      "id": "80dfc04f-89e5-46eb-a02d-1d34bdf4e8c6",
      "metadata": {
        "tags": [],
        "id": "80dfc04f-89e5-46eb-a02d-1d34bdf4e8c6"
      },
      "source": [
        "__Why I have used this specific libraries?__ <br>\n",
        "* __random__ module and __string__ module is used to generate the random key like security key which is not neccessary to use, just for an additonal like stuff i am using this.\n",
        "* __pandas__ is used to view the data in spreadsheet format and help you to retrive the information with corresponding values.\n",
        "* __re__ module is more useful because it help you to match the combination of letters, digits and punctuation for email, username and password.\n",
        "* __time__ is used to sleep or delay the program till few seconds so it gives the feel or vibe like our request is processing and takes time to execute."
      ]
    },
    {
      "cell_type": "code",
      "execution_count": null,
      "id": "7ac0028e-4f48-46c5-9c95-131a341ac160",
      "metadata": {
        "colab": {
          "base_uri": "https://localhost:8080/"
        },
        "id": "7ac0028e-4f48-46c5-9c95-131a341ac160",
        "outputId": "6e410633-e898-4c5c-a7e7-4e50de6589d2"
      },
      "outputs": [
        {
          "output_type": "stream",
          "name": "stdout",
          "text": [
            "Done\n"
          ]
        }
      ],
      "source": [
        "# Creating a database with taking username and password as input with few more attributes\n",
        "keys = [\"name\", \"username\", \"email\", \"password\", \"security_key\"] # This are the keys that will be reused on every instances\n",
        "\n",
        "# new users will be added automatically\n",
        "Name = []\n",
        "Username = []\n",
        "Email = []\n",
        "Password = []\n",
        "print(\"Done\")"
      ]
    },
    {
      "cell_type": "markdown",
      "id": "dba668ab-6f76-4e72-8ffe-61802b54ce40",
      "metadata": {
        "id": "dba668ab-6f76-4e72-8ffe-61802b54ce40"
      },
      "source": [
        "> __Note__ : Every time you re-run the cell, all the previous data will be removed automatically because we are assigning empty list to all the variables."
      ]
    },
    {
      "cell_type": "code",
      "execution_count": null,
      "id": "42641700-e5c3-4041-b78d-80fc0f8c95d6",
      "metadata": {
        "colab": {
          "base_uri": "https://localhost:8080/",
          "height": 566
        },
        "id": "42641700-e5c3-4041-b78d-80fc0f8c95d6",
        "outputId": "a11a57e3-7880-4f00-8a09-b93d78429620"
      },
      "outputs": [
        {
          "output_type": "stream",
          "name": "stdout",
          "text": [
            "Enter Your Name :\n",
            "Please enter valid name.\n",
            "Enter Your Name :Tejas Mahajan\n",
            "Enter a username :@tejas\n",
            "Username contains invalid characters.\n",
            "Enter a username :tejas\n",
            "Enter an email address :tejas\n",
            "Email is invalid.\n",
            "Enter an email address :tejas@gmail.co\n",
            "Email is invalid.\n",
            "Enter an email address :tejas@gmail.com\n",
            "Enter Password :\n",
            "Password should be 8 characters long and a combination of letters [A-Z], digits [0-9], and punctuation marks [@#$].\n",
            "Enter Password :tejas mahajan\n",
            "Password should be 8 characters long and a combination of letters [A-Z], digits [0-9], and punctuation marks [@#$].\n",
            "Enter Password :tejas@123\n",
            "Verification key is sent to your registered email : tejas@gmail.com\n",
            "Your OTP is : 798040\n",
            "Enter OTP To Complete Verification :\n",
            "Invalid OTP\n",
            "Enter OTP To Complete Verification :798040\n",
            "Otp is verified. Wait a few seconds, your request is under process.\n",
            "\n",
            "Congratulations Tejas Mahajan!, Your account is succesfully created.\n",
            "\n"
          ]
        },
        {
          "output_type": "execute_result",
          "data": {
            "text/plain": [
              "                   name username            email   password security_key\n",
              "username                                                                 \n",
              "tejas     Tejas Mahajan    tejas  tejas@gmail.com  tejas@123   4,\n",
              "8cD:&I!"
            ],
            "text/html": [
              "\n",
              "  <div id=\"df-a125c1e1-9d54-40b6-9d63-0a5d9a6b7fca\">\n",
              "    <div class=\"colab-df-container\">\n",
              "      <div>\n",
              "<style scoped>\n",
              "    .dataframe tbody tr th:only-of-type {\n",
              "        vertical-align: middle;\n",
              "    }\n",
              "\n",
              "    .dataframe tbody tr th {\n",
              "        vertical-align: top;\n",
              "    }\n",
              "\n",
              "    .dataframe thead th {\n",
              "        text-align: right;\n",
              "    }\n",
              "</style>\n",
              "<table border=\"1\" class=\"dataframe\">\n",
              "  <thead>\n",
              "    <tr style=\"text-align: right;\">\n",
              "      <th></th>\n",
              "      <th>name</th>\n",
              "      <th>username</th>\n",
              "      <th>email</th>\n",
              "      <th>password</th>\n",
              "      <th>security_key</th>\n",
              "    </tr>\n",
              "    <tr>\n",
              "      <th>username</th>\n",
              "      <th></th>\n",
              "      <th></th>\n",
              "      <th></th>\n",
              "      <th></th>\n",
              "      <th></th>\n",
              "    </tr>\n",
              "  </thead>\n",
              "  <tbody>\n",
              "    <tr>\n",
              "      <th>tejas</th>\n",
              "      <td>Tejas Mahajan</td>\n",
              "      <td>tejas</td>\n",
              "      <td>tejas@gmail.com</td>\n",
              "      <td>tejas@123</td>\n",
              "      <td>4,\u000b8cD:&amp;I!</td>\n",
              "    </tr>\n",
              "  </tbody>\n",
              "</table>\n",
              "</div>\n",
              "      <button class=\"colab-df-convert\" onclick=\"convertToInteractive('df-a125c1e1-9d54-40b6-9d63-0a5d9a6b7fca')\"\n",
              "              title=\"Convert this dataframe to an interactive table.\"\n",
              "              style=\"display:none;\">\n",
              "        \n",
              "  <svg xmlns=\"http://www.w3.org/2000/svg\" height=\"24px\"viewBox=\"0 0 24 24\"\n",
              "       width=\"24px\">\n",
              "    <path d=\"M0 0h24v24H0V0z\" fill=\"none\"/>\n",
              "    <path d=\"M18.56 5.44l.94 2.06.94-2.06 2.06-.94-2.06-.94-.94-2.06-.94 2.06-2.06.94zm-11 1L8.5 8.5l.94-2.06 2.06-.94-2.06-.94L8.5 2.5l-.94 2.06-2.06.94zm10 10l.94 2.06.94-2.06 2.06-.94-2.06-.94-.94-2.06-.94 2.06-2.06.94z\"/><path d=\"M17.41 7.96l-1.37-1.37c-.4-.4-.92-.59-1.43-.59-.52 0-1.04.2-1.43.59L10.3 9.45l-7.72 7.72c-.78.78-.78 2.05 0 2.83L4 21.41c.39.39.9.59 1.41.59.51 0 1.02-.2 1.41-.59l7.78-7.78 2.81-2.81c.8-.78.8-2.07 0-2.86zM5.41 20L4 18.59l7.72-7.72 1.47 1.35L5.41 20z\"/>\n",
              "  </svg>\n",
              "      </button>\n",
              "      \n",
              "  <style>\n",
              "    .colab-df-container {\n",
              "      display:flex;\n",
              "      flex-wrap:wrap;\n",
              "      gap: 12px;\n",
              "    }\n",
              "\n",
              "    .colab-df-convert {\n",
              "      background-color: #E8F0FE;\n",
              "      border: none;\n",
              "      border-radius: 50%;\n",
              "      cursor: pointer;\n",
              "      display: none;\n",
              "      fill: #1967D2;\n",
              "      height: 32px;\n",
              "      padding: 0 0 0 0;\n",
              "      width: 32px;\n",
              "    }\n",
              "\n",
              "    .colab-df-convert:hover {\n",
              "      background-color: #E2EBFA;\n",
              "      box-shadow: 0px 1px 2px rgba(60, 64, 67, 0.3), 0px 1px 3px 1px rgba(60, 64, 67, 0.15);\n",
              "      fill: #174EA6;\n",
              "    }\n",
              "\n",
              "    [theme=dark] .colab-df-convert {\n",
              "      background-color: #3B4455;\n",
              "      fill: #D2E3FC;\n",
              "    }\n",
              "\n",
              "    [theme=dark] .colab-df-convert:hover {\n",
              "      background-color: #434B5C;\n",
              "      box-shadow: 0px 1px 3px 1px rgba(0, 0, 0, 0.15);\n",
              "      filter: drop-shadow(0px 1px 2px rgba(0, 0, 0, 0.3));\n",
              "      fill: #FFFFFF;\n",
              "    }\n",
              "  </style>\n",
              "\n",
              "      <script>\n",
              "        const buttonEl =\n",
              "          document.querySelector('#df-a125c1e1-9d54-40b6-9d63-0a5d9a6b7fca button.colab-df-convert');\n",
              "        buttonEl.style.display =\n",
              "          google.colab.kernel.accessAllowed ? 'block' : 'none';\n",
              "\n",
              "        async function convertToInteractive(key) {\n",
              "          const element = document.querySelector('#df-a125c1e1-9d54-40b6-9d63-0a5d9a6b7fca');\n",
              "          const dataTable =\n",
              "            await google.colab.kernel.invokeFunction('convertToInteractive',\n",
              "                                                     [key], {});\n",
              "          if (!dataTable) return;\n",
              "\n",
              "          const docLinkHtml = 'Like what you see? Visit the ' +\n",
              "            '<a target=\"_blank\" href=https://colab.research.google.com/notebooks/data_table.ipynb>data table notebook</a>'\n",
              "            + ' to learn more about interactive tables.';\n",
              "          element.innerHTML = '';\n",
              "          dataTable['output_type'] = 'display_data';\n",
              "          await google.colab.output.renderOutput(dataTable, element);\n",
              "          const docLink = document.createElement('div');\n",
              "          docLink.innerHTML = docLinkHtml;\n",
              "          element.appendChild(docLink);\n",
              "        }\n",
              "      </script>\n",
              "    </div>\n",
              "  </div>\n",
              "  "
            ]
          },
          "metadata": {},
          "execution_count": 15
        }
      ],
      "source": [
        "# ---- Name Section -----\n",
        "while True:\n",
        "    name = input('Enter Your Name :')\n",
        "    if len(name) < 3:\n",
        "        print(\"Please enter valid name.\")\n",
        "        continue\n",
        "    \n",
        "    # It will break the loop if condition is True\n",
        "    break\n",
        "    \n",
        "# ---- Username Section -----\n",
        "while True:\n",
        "    username = input(\"Enter a username :\")\n",
        "    \n",
        "    if len(username) < 3:\n",
        "        print(\"Please enter valid username.\")\n",
        "        continue\n",
        "        \n",
        "    if not re.match(\"^[A-Za-z0-9_]+$\", username):\n",
        "        print(\"Username contains invalid characters.\")\n",
        "        continue\n",
        "\n",
        "    if username in Username:\n",
        "        print(\"Username is already taken. Try to use different username.\")\n",
        "        continue\n",
        "\n",
        "    # It will break the loop if all conditions are True\n",
        "    break\n",
        "\n",
        "# ---- Email Section -----\n",
        "while True:\n",
        "    email = input(\"Enter an email address :\")\n",
        "\n",
        "    if not email.endswith('@gmail.com'):\n",
        "        print(\"Email is invalid.\")\n",
        "        continue\n",
        "\n",
        "    if not re.match(\"^[A-Za-z0-9_]+$\", email.split('@')[0]):\n",
        "        print(\"Email contains invalid characters.\")\n",
        "        continue\n",
        "\n",
        "    if email in Email:\n",
        "        print(\"Email is already registered with us. Use another account or Try to Login instead.\")\n",
        "        continue\n",
        "\n",
        "    # It will break the loop if all conditions are True\n",
        "    break\n",
        "\n",
        "# ---- Password Section ----\n",
        "while True:\n",
        "    password = input('Enter Password :')\n",
        "    if not (len(password) >= 8 and re.match(r'^(?=.*[A-Za-z])(?=.*\\d)(?=.*[@$#])[A-Za-z\\d@$#]+$', password)):\n",
        "        print(\"Password should be 8 characters long and a combination of letters [A-Z], digits [0-9], and punctuation marks [@#$].\")\n",
        "        continue\n",
        "\n",
        "    # It will break the loop if all conditions are True\n",
        "    break\n",
        "    \n",
        "# ---- OTP or Verification Section ----\n",
        "# There is module available which help to send otp via email using python but we don't want to send mail right now.\n",
        "\n",
        "# Let's generate the otp\n",
        "key = str(random.randint(100000,999999))\n",
        "print(f\"Verification key is sent to your registered email : {email}\")\n",
        "\n",
        "# This will wait program till 3 seconds\n",
        "time.sleep(3)\n",
        "print(f\"Your OTP is : {key}\")\n",
        "\n",
        "# Verifying the otp\n",
        "while True:\n",
        "    otp = input('Enter OTP To Complete Verification :')\n",
        "    \n",
        "    if otp != key:\n",
        "        print('Invalid OTP')\n",
        "        continue\n",
        "\n",
        "    # If verification is successful then it will do the further steps\n",
        "    if key == otp :\n",
        "        print(\"Otp is verified. Wait a few seconds, your request is under process.\")\n",
        "        break\n",
        "    \n",
        "    \n",
        "# It will wait a program till 3 seconds\n",
        "time.sleep(3)\n",
        "    \n",
        "# Let's add user input to empty list\n",
        "Name.append(name.title())\n",
        "Username.append(username)\n",
        "Email.append(email.lower())\n",
        "Password.append(password)\n",
        "\n",
        "print(f\"\\nCongratulations {Name[-1].title()}!, Your account is succesfully created.\\n\")\n",
        "\n",
        "# Let's merge the list data with keys - dictionary comprehension\n",
        "database = [{key:(Name[i] if key == 'name' else Username[i] if key == 'username' else Email[i] if key == 'email' \n",
        "                else Password[i] if key == 'password' else ''.join(random.choices(string.printable, k=10))) for key in keys}\n",
        "                for i in range(len(Name))] \n",
        "\n",
        "# Let's fetch the data from database table\n",
        "df_dict = pd.DataFrame(database).drop_duplicates(subset=['username', 'email'])\n",
        "df_dict1 = df_dict\n",
        "df_dict = df_dict.set_index(df_dict1['username'])\n",
        "df_dict"
      ]
    },
    {
      "cell_type": "markdown",
      "id": "0d807e9b-9bf0-4381-b2f0-4b174ae3582c",
      "metadata": {
        "id": "0d807e9b-9bf0-4381-b2f0-4b174ae3582c"
      },
      "source": [
        "***"
      ]
    },
    {
      "cell_type": "markdown",
      "id": "eb57b086-5025-4ea8-bbe6-d828a1462f97",
      "metadata": {
        "id": "eb57b086-5025-4ea8-bbe6-d828a1462f97"
      },
      "source": [
        "# Sign In"
      ]
    },
    {
      "cell_type": "code",
      "execution_count": null,
      "id": "c141d8f4-431e-40d3-bb21-271307e86109",
      "metadata": {
        "id": "c141d8f4-431e-40d3-bb21-271307e86109"
      },
      "outputs": [],
      "source": [
        "# Locked accounts will be stores here and display here\n",
        "temp_locked1 = []"
      ]
    },
    {
      "cell_type": "markdown",
      "id": "8f22338d-c188-4605-acf6-2fecd68e6102",
      "metadata": {
        "id": "8f22338d-c188-4605-acf6-2fecd68e6102"
      },
      "source": [
        "> __Note__ : Every time you re-run the cell, all the previous data will be removed automatically because we are assigning empty list to temp_locked variable."
      ]
    },
    {
      "cell_type": "code",
      "execution_count": null,
      "id": "f10442f3-a00c-4f67-bd0c-a9f1ea9a08cc",
      "metadata": {
        "colab": {
          "base_uri": "https://localhost:8080/"
        },
        "id": "f10442f3-a00c-4f67-bd0c-a9f1ea9a08cc",
        "outputId": "9b3ab0cc-8c09-49c9-80d4-c3f02b9dfaa0"
      },
      "outputs": [
        {
          "output_type": "stream",
          "name": "stdout",
          "text": [
            "Temporary blocked accounts : []\n"
          ]
        }
      ],
      "source": [
        "print(f\"Temporary blocked accounts : {temp_locked1}\")"
      ]
    },
    {
      "cell_type": "code",
      "execution_count": null,
      "id": "8c2d620a-b046-491c-a9bd-686f234c4f83",
      "metadata": {
        "colab": {
          "base_uri": "https://localhost:8080/"
        },
        "id": "8c2d620a-b046-491c-a9bd-686f234c4f83",
        "outputId": "32c8c76b-f5bb-4abd-cc84-74dc32692c02"
      },
      "outputs": [
        {
          "output_type": "stream",
          "name": "stdout",
          "text": [
            "Enter Username :\n",
            "Username may be incorrect or may not exist. If you are not registered yet, Create your account for free!\n",
            "Enter Username :tejasmahajan\n",
            "Username may be incorrect or may not exist. If you are not registered yet, Create your account for free!\n",
            "Enter Username :tejas\n",
            "Welcome Back, Tejas Mahajan!\n",
            "Enter Password :tejas\n",
            "Incorrect Password. 4 attempts remaining.\n",
            "Enter Password :tejas mahajan\n",
            "Incorrect Password. 3 attempts remaining.\n",
            "Enter Password :tejas123\n",
            "Incorrect Password. 2 attempts remaining.\n",
            "Enter Password :tejas$123\n",
            "Warning! last attempt remaining. Your account will be locked for 24 hours.\n",
            "Enter Password :tejas@123\n",
            "Login successful.\n"
          ]
        }
      ],
      "source": [
        "# Sign in page\n",
        "while True:\n",
        "    username = input('Enter Username :')\n",
        "    \n",
        "    if username not in df_dict['username'].tolist():\n",
        "        print(\"Username may be incorrect or may not exist. If you are not registered yet, Create your account for free!\")\n",
        "        continue\n",
        "        \n",
        "    if username in temp_locked1:\n",
        "        print(\"Your account is locked. Try to login after 24 hours.\")\n",
        "        break\n",
        "    \n",
        "        \n",
        "    # If username is valid and registered with us it will ask for password\n",
        "    print(f\"Welcome Back, {df_dict[df_dict['username'] == username].name[0]}!\")\n",
        "\n",
        "    # ----- Nested loop for password -----\n",
        "\n",
        "    attempt = 5   # Setting attampts to 5 to limit the password inputs\n",
        "    while True:\n",
        "        password = input('Enter Password :')\n",
        "\n",
        "        # Check account is not temporary locked or password is valid if it is valid it will break the entire loop and prompt login successful.\n",
        "        if password == df_dict.loc[username][3] and username not in temp_locked1:\n",
        "            print(\"Login successful.\")\n",
        "            break\n",
        "\n",
        "        # Reduce the attempt if password is incorrect\n",
        "        if password != df_dict.loc[username][3]:\n",
        "            attempt = attempt - 1\n",
        "            if attempt == 1:\n",
        "                print(\"Warning! last attempt remaining. Your account will be locked for 24 hours.\")\n",
        "            else:\n",
        "                if attempt != 0:\n",
        "                    print(f\"Incorrect Password. {attempt} attempts remaining.\")\n",
        "\n",
        "            # Add username to temporary locked list, if attempt is 1 and not match with existing password\n",
        "            if attempt < 1 and password != df_dict.loc[username][3]:\n",
        "                print(\"\\nDue to security reason, Your account is locked for 24 hours.\")\n",
        "                temp_locked1.append(username)\n",
        "                break\n",
        "\n",
        "            # continue the loop if conditions is not true\n",
        "            continue\n",
        "\n",
        "    # Break the main loop if all conditions is true\n",
        "    break"
      ]
    },
    {
      "cell_type": "markdown",
      "id": "6a614f9a-45b4-4326-a533-1db7e1cbbc80",
      "metadata": {
        "id": "6a614f9a-45b4-4326-a533-1db7e1cbbc80"
      },
      "source": [
        "***"
      ]
    },
    {
      "cell_type": "markdown",
      "id": "24099c31-6e67-4f64-9824-e3351dead076",
      "metadata": {
        "id": "24099c31-6e67-4f64-9824-e3351dead076"
      },
      "source": [
        "## Change Password"
      ]
    },
    {
      "cell_type": "code",
      "execution_count": null,
      "id": "a54c6d24-5c5a-4cd0-bd1f-8b6af8a4e27f",
      "metadata": {
        "colab": {
          "base_uri": "https://localhost:8080/",
          "height": 402
        },
        "id": "a54c6d24-5c5a-4cd0-bd1f-8b6af8a4e27f",
        "outputId": "7950ed62-e9d7-4619-c7db-e7100eded36e"
      },
      "outputs": [
        {
          "output_type": "stream",
          "name": "stdout",
          "text": [
            "Enter Your Email :tejas@gmail.com\n",
            "Verification key is sent to your registered email : tejas@gmail.com\n",
            "Your OTP is : 493735\n",
            "Enter OTP To Complete Verification :493735\n",
            "Otp is verified. Wait a few seconds, your request is under process.\n",
            "Create New Password :tejas@123\n",
            "Re-enter New Password :tejas@123\n",
            "New password matched with existing password. Enter different password.\n",
            "Create New Password :tejas@123\n",
            "Re-enter New Password :Tejas@123\n",
            "New password didn't matched.\n",
            "Create New Password :Tejas@123\n",
            "Re-enter New Password :Tejas@123\n",
            "Your Password is successfully changed.\n",
            "\n",
            "\n"
          ]
        },
        {
          "output_type": "execute_result",
          "data": {
            "text/plain": [
              "                   name username            email   password security_key\n",
              "username                                                                 \n",
              "tejas     Tejas Mahajan    tejas  tejas@gmail.com  Tejas@123   gn1I9s'<HX"
            ],
            "text/html": [
              "\n",
              "  <div id=\"df-6e2b440e-b82e-4642-a1e7-90502f763f12\">\n",
              "    <div class=\"colab-df-container\">\n",
              "      <div>\n",
              "<style scoped>\n",
              "    .dataframe tbody tr th:only-of-type {\n",
              "        vertical-align: middle;\n",
              "    }\n",
              "\n",
              "    .dataframe tbody tr th {\n",
              "        vertical-align: top;\n",
              "    }\n",
              "\n",
              "    .dataframe thead th {\n",
              "        text-align: right;\n",
              "    }\n",
              "</style>\n",
              "<table border=\"1\" class=\"dataframe\">\n",
              "  <thead>\n",
              "    <tr style=\"text-align: right;\">\n",
              "      <th></th>\n",
              "      <th>name</th>\n",
              "      <th>username</th>\n",
              "      <th>email</th>\n",
              "      <th>password</th>\n",
              "      <th>security_key</th>\n",
              "    </tr>\n",
              "    <tr>\n",
              "      <th>username</th>\n",
              "      <th></th>\n",
              "      <th></th>\n",
              "      <th></th>\n",
              "      <th></th>\n",
              "      <th></th>\n",
              "    </tr>\n",
              "  </thead>\n",
              "  <tbody>\n",
              "    <tr>\n",
              "      <th>tejas</th>\n",
              "      <td>Tejas Mahajan</td>\n",
              "      <td>tejas</td>\n",
              "      <td>tejas@gmail.com</td>\n",
              "      <td>Tejas@123</td>\n",
              "      <td>gn1I9s'&lt;HX</td>\n",
              "    </tr>\n",
              "  </tbody>\n",
              "</table>\n",
              "</div>\n",
              "      <button class=\"colab-df-convert\" onclick=\"convertToInteractive('df-6e2b440e-b82e-4642-a1e7-90502f763f12')\"\n",
              "              title=\"Convert this dataframe to an interactive table.\"\n",
              "              style=\"display:none;\">\n",
              "        \n",
              "  <svg xmlns=\"http://www.w3.org/2000/svg\" height=\"24px\"viewBox=\"0 0 24 24\"\n",
              "       width=\"24px\">\n",
              "    <path d=\"M0 0h24v24H0V0z\" fill=\"none\"/>\n",
              "    <path d=\"M18.56 5.44l.94 2.06.94-2.06 2.06-.94-2.06-.94-.94-2.06-.94 2.06-2.06.94zm-11 1L8.5 8.5l.94-2.06 2.06-.94-2.06-.94L8.5 2.5l-.94 2.06-2.06.94zm10 10l.94 2.06.94-2.06 2.06-.94-2.06-.94-.94-2.06-.94 2.06-2.06.94z\"/><path d=\"M17.41 7.96l-1.37-1.37c-.4-.4-.92-.59-1.43-.59-.52 0-1.04.2-1.43.59L10.3 9.45l-7.72 7.72c-.78.78-.78 2.05 0 2.83L4 21.41c.39.39.9.59 1.41.59.51 0 1.02-.2 1.41-.59l7.78-7.78 2.81-2.81c.8-.78.8-2.07 0-2.86zM5.41 20L4 18.59l7.72-7.72 1.47 1.35L5.41 20z\"/>\n",
              "  </svg>\n",
              "      </button>\n",
              "      \n",
              "  <style>\n",
              "    .colab-df-container {\n",
              "      display:flex;\n",
              "      flex-wrap:wrap;\n",
              "      gap: 12px;\n",
              "    }\n",
              "\n",
              "    .colab-df-convert {\n",
              "      background-color: #E8F0FE;\n",
              "      border: none;\n",
              "      border-radius: 50%;\n",
              "      cursor: pointer;\n",
              "      display: none;\n",
              "      fill: #1967D2;\n",
              "      height: 32px;\n",
              "      padding: 0 0 0 0;\n",
              "      width: 32px;\n",
              "    }\n",
              "\n",
              "    .colab-df-convert:hover {\n",
              "      background-color: #E2EBFA;\n",
              "      box-shadow: 0px 1px 2px rgba(60, 64, 67, 0.3), 0px 1px 3px 1px rgba(60, 64, 67, 0.15);\n",
              "      fill: #174EA6;\n",
              "    }\n",
              "\n",
              "    [theme=dark] .colab-df-convert {\n",
              "      background-color: #3B4455;\n",
              "      fill: #D2E3FC;\n",
              "    }\n",
              "\n",
              "    [theme=dark] .colab-df-convert:hover {\n",
              "      background-color: #434B5C;\n",
              "      box-shadow: 0px 1px 3px 1px rgba(0, 0, 0, 0.15);\n",
              "      filter: drop-shadow(0px 1px 2px rgba(0, 0, 0, 0.3));\n",
              "      fill: #FFFFFF;\n",
              "    }\n",
              "  </style>\n",
              "\n",
              "      <script>\n",
              "        const buttonEl =\n",
              "          document.querySelector('#df-6e2b440e-b82e-4642-a1e7-90502f763f12 button.colab-df-convert');\n",
              "        buttonEl.style.display =\n",
              "          google.colab.kernel.accessAllowed ? 'block' : 'none';\n",
              "\n",
              "        async function convertToInteractive(key) {\n",
              "          const element = document.querySelector('#df-6e2b440e-b82e-4642-a1e7-90502f763f12');\n",
              "          const dataTable =\n",
              "            await google.colab.kernel.invokeFunction('convertToInteractive',\n",
              "                                                     [key], {});\n",
              "          if (!dataTable) return;\n",
              "\n",
              "          const docLinkHtml = 'Like what you see? Visit the ' +\n",
              "            '<a target=\"_blank\" href=https://colab.research.google.com/notebooks/data_table.ipynb>data table notebook</a>'\n",
              "            + ' to learn more about interactive tables.';\n",
              "          element.innerHTML = '';\n",
              "          dataTable['output_type'] = 'display_data';\n",
              "          await google.colab.output.renderOutput(dataTable, element);\n",
              "          const docLink = document.createElement('div');\n",
              "          docLink.innerHTML = docLinkHtml;\n",
              "          element.appendChild(docLink);\n",
              "        }\n",
              "      </script>\n",
              "    </div>\n",
              "  </div>\n",
              "  "
            ]
          },
          "metadata": {},
          "execution_count": 7
        }
      ],
      "source": [
        "# Change Password Using Gmail\n",
        "while True:\n",
        "    email = input('Enter Your Email :')\n",
        "    \n",
        "    if not email.endswith('@gmail.com'):\n",
        "        print(\"Enter valid Email.\")\n",
        "        continue\n",
        "    \n",
        "    if email not in df_dict['email'].tolist():\n",
        "        print('Your email may be incorrect or not registered with us. Enter valid email.')\n",
        "        continue\n",
        "        \n",
        "    # Break the main loop if all the conditions are true\n",
        "    break\n",
        "    \n",
        "# Let's generate the otp\n",
        "key = str(random.randint(100000,999999))\n",
        "print(f\"Verification key is sent to your registered email : {email}\")\n",
        "\n",
        "# This will wait program till 3 seconds\n",
        "time.sleep(3)\n",
        "print(f\"Your OTP is : {key}\")\n",
        "\n",
        "# Verifying the otp\n",
        "while True:\n",
        "    otp = input('Enter OTP To Complete Verification :')\n",
        "\n",
        "    if otp != key:\n",
        "        print('Invalid OTP')\n",
        "        continue\n",
        "\n",
        "    # If verification is successful then it will do the further steps\n",
        "    if key == otp :\n",
        "        print(\"Otp is verified. Wait a few seconds, your request is under process.\")\n",
        "        break\n",
        "        \n",
        "        \n",
        "# This will wait program till 3 seconds\n",
        "time.sleep(3)\n",
        "        \n",
        "while True:\n",
        "    password = input('Create New Password :')\n",
        "    password1 = input('Re-enter New Password :')\n",
        "\n",
        "    pattern = r'^(?=.*[A-Za-z])(?=.*\\d)(?=.*[@$#])[A-Za-z\\d@$#]+$'\n",
        "    if not (len(password) >= 8 and len(password1) > 8 and re.match(pattern, password) and re.match(pattern, password1)):\n",
        "        print(\"Password should be 8 characters long and a combination of letters [A-Z], digits [0-9], and punctuation marks [@#$].\")\n",
        "        continue\n",
        "\n",
        "    if password != password1 or password1 != password:\n",
        "        print(\"New password didn't matched.\")\n",
        "        continue\n",
        "\n",
        "    if password == df_dict[df_dict['email'] == email].password[0] or password1 == df_dict[df_dict['email'] == email].password[0]:\n",
        "        print(\"New password matched with existing password. Enter different password.\")\n",
        "        continue\n",
        "\n",
        "    if password == password1 and password != df_dict[df_dict['email'] == email].password[0]:\n",
        "        print(\"Your Password is successfully changed.\\n\")\n",
        "        break\n",
        "    \n",
        "            \n",
        "# this will replace old password with new password\n",
        "df_dict.loc[df_dict['email'] == email, 'password'] = password\n",
        "print()\n",
        "df_dict"
      ]
    },
    {
      "cell_type": "markdown",
      "id": "4f452dd4-a67b-4a0f-903b-f195007bb97f",
      "metadata": {
        "id": "4f452dd4-a67b-4a0f-903b-f195007bb97f"
      },
      "source": [
        "  "
      ]
    },
    {
      "cell_type": "markdown",
      "id": "102c4fc3-b252-448d-a341-cbf4c632f113",
      "metadata": {
        "id": "102c4fc3-b252-448d-a341-cbf4c632f113"
      },
      "source": [
        "We can use the same way to change the email and username just like I did in change password program."
      ]
    },
    {
      "cell_type": "markdown",
      "id": "11c85b2f-9e78-4471-8264-50495a1f1afd",
      "metadata": {
        "id": "11c85b2f-9e78-4471-8264-50495a1f1afd"
      },
      "source": [
        "***"
      ]
    },
    {
      "cell_type": "markdown",
      "id": "54b8fa2b-8d48-454a-a67b-2a2c1fef17ca",
      "metadata": {
        "id": "54b8fa2b-8d48-454a-a67b-2a2c1fef17ca"
      },
      "source": [
        "  "
      ]
    },
    {
      "cell_type": "markdown",
      "id": "e43aaf95-7219-4a01-b2bd-574c4a842de5",
      "metadata": {
        "id": "e43aaf95-7219-4a01-b2bd-574c4a842de5"
      },
      "source": [
        "<h1> Sign Up Page Using SQLite </h1>"
      ]
    },
    {
      "cell_type": "markdown",
      "id": "2ea0bc9e-50d6-4a8b-a2f7-624b02c98692",
      "metadata": {
        "id": "2ea0bc9e-50d6-4a8b-a2f7-624b02c98692"
      },
      "source": [
        "> Permanent Solution of local variables to store data permanently and retrieve it even if you run the overall the program again."
      ]
    },
    {
      "cell_type": "code",
      "execution_count": null,
      "id": "97e1a13a-ad85-4605-be2d-2e809bed3bab",
      "metadata": {
        "colab": {
          "base_uri": "https://localhost:8080/",
          "height": 81
        },
        "id": "97e1a13a-ad85-4605-be2d-2e809bed3bab",
        "outputId": "edb80bca-e56e-4c32-e639-24abba3af071"
      },
      "outputs": [
        {
          "output_type": "execute_result",
          "data": {
            "text/plain": [
              "Empty DataFrame\n",
              "Columns: [name, email, password, security_key]\n",
              "Index: []"
            ],
            "text/html": [
              "\n",
              "  <div id=\"df-46cd42b2-9962-4312-8ee1-ffa6867d0345\">\n",
              "    <div class=\"colab-df-container\">\n",
              "      <div>\n",
              "<style scoped>\n",
              "    .dataframe tbody tr th:only-of-type {\n",
              "        vertical-align: middle;\n",
              "    }\n",
              "\n",
              "    .dataframe tbody tr th {\n",
              "        vertical-align: top;\n",
              "    }\n",
              "\n",
              "    .dataframe thead th {\n",
              "        text-align: right;\n",
              "    }\n",
              "</style>\n",
              "<table border=\"1\" class=\"dataframe\">\n",
              "  <thead>\n",
              "    <tr style=\"text-align: right;\">\n",
              "      <th></th>\n",
              "      <th>name</th>\n",
              "      <th>email</th>\n",
              "      <th>password</th>\n",
              "      <th>security_key</th>\n",
              "    </tr>\n",
              "    <tr>\n",
              "      <th>username</th>\n",
              "      <th></th>\n",
              "      <th></th>\n",
              "      <th></th>\n",
              "      <th></th>\n",
              "    </tr>\n",
              "  </thead>\n",
              "  <tbody>\n",
              "  </tbody>\n",
              "</table>\n",
              "</div>\n",
              "      <button class=\"colab-df-convert\" onclick=\"convertToInteractive('df-46cd42b2-9962-4312-8ee1-ffa6867d0345')\"\n",
              "              title=\"Convert this dataframe to an interactive table.\"\n",
              "              style=\"display:none;\">\n",
              "        \n",
              "  <svg xmlns=\"http://www.w3.org/2000/svg\" height=\"24px\"viewBox=\"0 0 24 24\"\n",
              "       width=\"24px\">\n",
              "    <path d=\"M0 0h24v24H0V0z\" fill=\"none\"/>\n",
              "    <path d=\"M18.56 5.44l.94 2.06.94-2.06 2.06-.94-2.06-.94-.94-2.06-.94 2.06-2.06.94zm-11 1L8.5 8.5l.94-2.06 2.06-.94-2.06-.94L8.5 2.5l-.94 2.06-2.06.94zm10 10l.94 2.06.94-2.06 2.06-.94-2.06-.94-.94-2.06-.94 2.06-2.06.94z\"/><path d=\"M17.41 7.96l-1.37-1.37c-.4-.4-.92-.59-1.43-.59-.52 0-1.04.2-1.43.59L10.3 9.45l-7.72 7.72c-.78.78-.78 2.05 0 2.83L4 21.41c.39.39.9.59 1.41.59.51 0 1.02-.2 1.41-.59l7.78-7.78 2.81-2.81c.8-.78.8-2.07 0-2.86zM5.41 20L4 18.59l7.72-7.72 1.47 1.35L5.41 20z\"/>\n",
              "  </svg>\n",
              "      </button>\n",
              "      \n",
              "  <style>\n",
              "    .colab-df-container {\n",
              "      display:flex;\n",
              "      flex-wrap:wrap;\n",
              "      gap: 12px;\n",
              "    }\n",
              "\n",
              "    .colab-df-convert {\n",
              "      background-color: #E8F0FE;\n",
              "      border: none;\n",
              "      border-radius: 50%;\n",
              "      cursor: pointer;\n",
              "      display: none;\n",
              "      fill: #1967D2;\n",
              "      height: 32px;\n",
              "      padding: 0 0 0 0;\n",
              "      width: 32px;\n",
              "    }\n",
              "\n",
              "    .colab-df-convert:hover {\n",
              "      background-color: #E2EBFA;\n",
              "      box-shadow: 0px 1px 2px rgba(60, 64, 67, 0.3), 0px 1px 3px 1px rgba(60, 64, 67, 0.15);\n",
              "      fill: #174EA6;\n",
              "    }\n",
              "\n",
              "    [theme=dark] .colab-df-convert {\n",
              "      background-color: #3B4455;\n",
              "      fill: #D2E3FC;\n",
              "    }\n",
              "\n",
              "    [theme=dark] .colab-df-convert:hover {\n",
              "      background-color: #434B5C;\n",
              "      box-shadow: 0px 1px 3px 1px rgba(0, 0, 0, 0.15);\n",
              "      filter: drop-shadow(0px 1px 2px rgba(0, 0, 0, 0.3));\n",
              "      fill: #FFFFFF;\n",
              "    }\n",
              "  </style>\n",
              "\n",
              "      <script>\n",
              "        const buttonEl =\n",
              "          document.querySelector('#df-46cd42b2-9962-4312-8ee1-ffa6867d0345 button.colab-df-convert');\n",
              "        buttonEl.style.display =\n",
              "          google.colab.kernel.accessAllowed ? 'block' : 'none';\n",
              "\n",
              "        async function convertToInteractive(key) {\n",
              "          const element = document.querySelector('#df-46cd42b2-9962-4312-8ee1-ffa6867d0345');\n",
              "          const dataTable =\n",
              "            await google.colab.kernel.invokeFunction('convertToInteractive',\n",
              "                                                     [key], {});\n",
              "          if (!dataTable) return;\n",
              "\n",
              "          const docLinkHtml = 'Like what you see? Visit the ' +\n",
              "            '<a target=\"_blank\" href=https://colab.research.google.com/notebooks/data_table.ipynb>data table notebook</a>'\n",
              "            + ' to learn more about interactive tables.';\n",
              "          element.innerHTML = '';\n",
              "          dataTable['output_type'] = 'display_data';\n",
              "          await google.colab.output.renderOutput(dataTable, element);\n",
              "          const docLink = document.createElement('div');\n",
              "          docLink.innerHTML = docLinkHtml;\n",
              "          element.appendChild(docLink);\n",
              "        }\n",
              "      </script>\n",
              "    </div>\n",
              "  </div>\n",
              "  "
            ]
          },
          "metadata": {},
          "execution_count": 9
        }
      ],
      "source": [
        "# Let's load all the required libraries and established a database connection\n",
        "import sqlite3\n",
        "import random\n",
        "import string\n",
        "import pandas as pd\n",
        "import time\n",
        "import re\n",
        "\n",
        "# Connect to or create the database\n",
        "conn = sqlite3.connect('login.db')\n",
        "\n",
        "# create a cursor object to excecute sql queries\n",
        "c = conn.cursor()\n",
        "\n",
        "# Drop table if not required\n",
        "# c.execute(\"drop table login\")\n",
        "\n",
        "# Create table if not exist\n",
        "c.execute(\"\"\"CREATE TABLE IF NOT EXISTS login\n",
        "                 (name TEXT NOT NULL,\n",
        "                 username TEXT NOT NULL,\n",
        "                 email TEXT NOT NULL,\n",
        "                 password TEXT NOT NULL,\n",
        "                 security_key TEXT NOT NULL);\"\"\")\n",
        "\n",
        "# Let's fetch the data from a database table\n",
        "df_sql = pd.read_sql_query(\"Select * From login\", conn, index_col='username')\n",
        "df_sql"
      ]
    },
    {
      "cell_type": "markdown",
      "id": "0f9d37ef-a416-41ee-96a9-5b8d055bab23",
      "metadata": {
        "id": "0f9d37ef-a416-41ee-96a9-5b8d055bab23"
      },
      "source": [
        "***"
      ]
    },
    {
      "cell_type": "markdown",
      "id": "74c27d6d-7910-495e-ac63-d7f2c7abcf44",
      "metadata": {
        "id": "74c27d6d-7910-495e-ac63-d7f2c7abcf44"
      },
      "source": [
        "## Sign up Page"
      ]
    },
    {
      "cell_type": "code",
      "execution_count": null,
      "id": "2e55c961-df2a-4d58-b330-688d939186a5",
      "metadata": {
        "colab": {
          "base_uri": "https://localhost:8080/",
          "height": 452
        },
        "id": "2e55c961-df2a-4d58-b330-688d939186a5",
        "outputId": "3bd5502c-bda0-452b-8593-095f134c6178"
      },
      "outputs": [
        {
          "output_type": "stream",
          "name": "stdout",
          "text": [
            "Enter Your Name :Tejas Mahajan\n",
            "Enter a username:tejas\n",
            "Username is already taken. Try to use different username.\n",
            "Enter a username:tejasmahajan\n",
            "Enter an email address:tejas\n",
            "Email is invalid.\n",
            "Enter an email address:tejas@gmail.com\n",
            "Email is already registered with us. Use another account or Try to Login instead.\n",
            "Enter an email address:tejasmahajan@gmail.com\n",
            "Enter Password :tejas@123\n",
            "Verification key is sent to your registered email : tejasmahajan@gmail.com\n",
            "Your OTP is : 541370\n",
            "Enter OTP To Complete Verification :541370\n",
            "Otp is verified. Wait a few seconds, your request is under process.\n",
            "\n",
            "Congratulations Tejas Mahajan!, Your account is succesfully created.\n",
            "\n"
          ]
        },
        {
          "output_type": "display_data",
          "data": {
            "text/plain": [
              "                       name      username                   email   password  \\\n",
              "username                                                                       \n",
              "tejas         Tejas Mahajan         tejas         tejas@gmail.com  tejas@123   \n",
              "tejasmahajan  Tejas Mahajan  tejasmahajan  tejasmahajan@gmail.com  tejas@123   \n",
              "\n",
              "             security_key  \n",
              "username                   \n",
              "tejas          D@1!g~pKyz  \n",
              "tejasmahajan   )Lx\n",
              "I^{7Xx  "
            ],
            "text/html": [
              "\n",
              "  <div id=\"df-04ea6c37-7500-4588-b7e0-612fe04a2e2d\">\n",
              "    <div class=\"colab-df-container\">\n",
              "      <div>\n",
              "<style scoped>\n",
              "    .dataframe tbody tr th:only-of-type {\n",
              "        vertical-align: middle;\n",
              "    }\n",
              "\n",
              "    .dataframe tbody tr th {\n",
              "        vertical-align: top;\n",
              "    }\n",
              "\n",
              "    .dataframe thead th {\n",
              "        text-align: right;\n",
              "    }\n",
              "</style>\n",
              "<table border=\"1\" class=\"dataframe\">\n",
              "  <thead>\n",
              "    <tr style=\"text-align: right;\">\n",
              "      <th></th>\n",
              "      <th>name</th>\n",
              "      <th>username</th>\n",
              "      <th>email</th>\n",
              "      <th>password</th>\n",
              "      <th>security_key</th>\n",
              "    </tr>\n",
              "    <tr>\n",
              "      <th>username</th>\n",
              "      <th></th>\n",
              "      <th></th>\n",
              "      <th></th>\n",
              "      <th></th>\n",
              "      <th></th>\n",
              "    </tr>\n",
              "  </thead>\n",
              "  <tbody>\n",
              "    <tr>\n",
              "      <th>tejas</th>\n",
              "      <td>Tejas Mahajan</td>\n",
              "      <td>tejas</td>\n",
              "      <td>tejas@gmail.com</td>\n",
              "      <td>tejas@123</td>\n",
              "      <td>D@1!g~pKyz</td>\n",
              "    </tr>\n",
              "    <tr>\n",
              "      <th>tejasmahajan</th>\n",
              "      <td>Tejas Mahajan</td>\n",
              "      <td>tejasmahajan</td>\n",
              "      <td>tejasmahajan@gmail.com</td>\n",
              "      <td>tejas@123</td>\n",
              "      <td>)Lx\fI^{7Xx</td>\n",
              "    </tr>\n",
              "  </tbody>\n",
              "</table>\n",
              "</div>\n",
              "      <button class=\"colab-df-convert\" onclick=\"convertToInteractive('df-04ea6c37-7500-4588-b7e0-612fe04a2e2d')\"\n",
              "              title=\"Convert this dataframe to an interactive table.\"\n",
              "              style=\"display:none;\">\n",
              "        \n",
              "  <svg xmlns=\"http://www.w3.org/2000/svg\" height=\"24px\"viewBox=\"0 0 24 24\"\n",
              "       width=\"24px\">\n",
              "    <path d=\"M0 0h24v24H0V0z\" fill=\"none\"/>\n",
              "    <path d=\"M18.56 5.44l.94 2.06.94-2.06 2.06-.94-2.06-.94-.94-2.06-.94 2.06-2.06.94zm-11 1L8.5 8.5l.94-2.06 2.06-.94-2.06-.94L8.5 2.5l-.94 2.06-2.06.94zm10 10l.94 2.06.94-2.06 2.06-.94-2.06-.94-.94-2.06-.94 2.06-2.06.94z\"/><path d=\"M17.41 7.96l-1.37-1.37c-.4-.4-.92-.59-1.43-.59-.52 0-1.04.2-1.43.59L10.3 9.45l-7.72 7.72c-.78.78-.78 2.05 0 2.83L4 21.41c.39.39.9.59 1.41.59.51 0 1.02-.2 1.41-.59l7.78-7.78 2.81-2.81c.8-.78.8-2.07 0-2.86zM5.41 20L4 18.59l7.72-7.72 1.47 1.35L5.41 20z\"/>\n",
              "  </svg>\n",
              "      </button>\n",
              "      \n",
              "  <style>\n",
              "    .colab-df-container {\n",
              "      display:flex;\n",
              "      flex-wrap:wrap;\n",
              "      gap: 12px;\n",
              "    }\n",
              "\n",
              "    .colab-df-convert {\n",
              "      background-color: #E8F0FE;\n",
              "      border: none;\n",
              "      border-radius: 50%;\n",
              "      cursor: pointer;\n",
              "      display: none;\n",
              "      fill: #1967D2;\n",
              "      height: 32px;\n",
              "      padding: 0 0 0 0;\n",
              "      width: 32px;\n",
              "    }\n",
              "\n",
              "    .colab-df-convert:hover {\n",
              "      background-color: #E2EBFA;\n",
              "      box-shadow: 0px 1px 2px rgba(60, 64, 67, 0.3), 0px 1px 3px 1px rgba(60, 64, 67, 0.15);\n",
              "      fill: #174EA6;\n",
              "    }\n",
              "\n",
              "    [theme=dark] .colab-df-convert {\n",
              "      background-color: #3B4455;\n",
              "      fill: #D2E3FC;\n",
              "    }\n",
              "\n",
              "    [theme=dark] .colab-df-convert:hover {\n",
              "      background-color: #434B5C;\n",
              "      box-shadow: 0px 1px 3px 1px rgba(0, 0, 0, 0.15);\n",
              "      filter: drop-shadow(0px 1px 2px rgba(0, 0, 0, 0.3));\n",
              "      fill: #FFFFFF;\n",
              "    }\n",
              "  </style>\n",
              "\n",
              "      <script>\n",
              "        const buttonEl =\n",
              "          document.querySelector('#df-04ea6c37-7500-4588-b7e0-612fe04a2e2d button.colab-df-convert');\n",
              "        buttonEl.style.display =\n",
              "          google.colab.kernel.accessAllowed ? 'block' : 'none';\n",
              "\n",
              "        async function convertToInteractive(key) {\n",
              "          const element = document.querySelector('#df-04ea6c37-7500-4588-b7e0-612fe04a2e2d');\n",
              "          const dataTable =\n",
              "            await google.colab.kernel.invokeFunction('convertToInteractive',\n",
              "                                                     [key], {});\n",
              "          if (!dataTable) return;\n",
              "\n",
              "          const docLinkHtml = 'Like what you see? Visit the ' +\n",
              "            '<a target=\"_blank\" href=https://colab.research.google.com/notebooks/data_table.ipynb>data table notebook</a>'\n",
              "            + ' to learn more about interactive tables.';\n",
              "          element.innerHTML = '';\n",
              "          dataTable['output_type'] = 'display_data';\n",
              "          await google.colab.output.renderOutput(dataTable, element);\n",
              "          const docLink = document.createElement('div');\n",
              "          docLink.innerHTML = docLinkHtml;\n",
              "          element.appendChild(docLink);\n",
              "        }\n",
              "      </script>\n",
              "    </div>\n",
              "  </div>\n",
              "  "
            ]
          },
          "metadata": {}
        }
      ],
      "source": [
        "# ---- Name Section -----\n",
        "while True:\n",
        "    name = input('Enter Your Name :')\n",
        "    if len(name) < 3:\n",
        "        print(\"Please enter valid name.\")\n",
        "        continue\n",
        "    \n",
        "    # It will break the loop if condition is True\n",
        "    break\n",
        "    \n",
        "# ---- Username Section -----\n",
        "while True:\n",
        "    username = input(\"Enter a username:\")\n",
        "    \n",
        "    if len(username) < 3:\n",
        "        print(\"Please enter valid username.\")\n",
        "        continue\n",
        "\n",
        "    if not re.match(\"^[A-Za-z0-9_]+$\", username):\n",
        "        print(\"Username contains invalid characters.\")\n",
        "        continue\n",
        "\n",
        "    c.execute(\"SELECT username FROM login WHERE username=?\", (username,))\n",
        "    if c.fetchone() is not None:\n",
        "        print(\"Username is already taken. Try to use different username.\")\n",
        "        continue\n",
        "\n",
        "    # It will break the loop if all conditions are True\n",
        "    break\n",
        "\n",
        "# ---- Email Section -----\n",
        "while True:\n",
        "    email = input(\"Enter an email address:\")\n",
        "\n",
        "    if not email.endswith('@gmail.com'):\n",
        "        print(\"Email is invalid.\")\n",
        "        continue\n",
        "\n",
        "    if not re.match(\"^[A-Za-z0-9_]+$\", email.split('@')[0]):\n",
        "        print(\"Email contains invalid characters.\")\n",
        "        continue\n",
        "\n",
        "    c.execute(\"SELECT email FROM login WHERE email=?\", (email,))\n",
        "    if c.fetchone() is not None:\n",
        "        print(\"Email is already registered with us. Use another account or Try to Login instead.\")\n",
        "        continue\n",
        "\n",
        "    # It will break the loop if all conditions are True\n",
        "    break\n",
        "\n",
        "# ---- Password Section ----\n",
        "while True:\n",
        "    password = input('Enter Password :')\n",
        "    if not (len(password) >= 8 and re.match(r'^(?=.*[A-Za-z])(?=.*\\d)(?=.*[@$#])[A-Za-z\\d@$#]+$', password)):\n",
        "        print(\"Password should be 8 characters long and a combination of letters [A-Z], digits [0-9], and punctuation marks [@#$].\")\n",
        "        continue\n",
        "\n",
        "    # It will break the loop if all conditions are True\n",
        "    break\n",
        "    \n",
        "# ---- OTP or Verification Section ---- \n",
        "# There is module available which help to send otp via email using python but we don't want to send mail right now.\n",
        "\n",
        "# Let's generate the otp\n",
        "key = str(random.randint(100000,999999))\n",
        "print(f\"Verification key is sent to your registered email : {email}\")\n",
        "\n",
        "# This will wait program till 3 seconds\n",
        "time.sleep(3)\n",
        "print(f\"Your OTP is : {key}\")\n",
        "\n",
        "# Verifying the otp\n",
        "while True:\n",
        "    otp = input('Enter OTP To Complete Verification :')\n",
        "\n",
        "    if otp != key:\n",
        "        print('Invalid OTP')\n",
        "        continue\n",
        "\n",
        "    # If verification is successful then it will do the further steps\n",
        "    if key == otp :\n",
        "        print(\"Otp is verified. Wait a few seconds, your request is under process.\")\n",
        "        break\n",
        "        \n",
        "# This will wait program till 3 seconds\n",
        "time.sleep(3)\n",
        "\n",
        "# Let's add are the data to the database\n",
        "security_key = ''.join(random.choices(string.printable, k=10))\n",
        "\n",
        "# Let's add user inputs to the database table\n",
        "c.execute(\"INSERT INTO login (name, username, email, password, security_key) VALUES (?,?,?,?,?)\", (name, username, email, password, security_key))\n",
        "conn.commit()\n",
        "\n",
        "print(f\"\\nCongratulations {name.title()}!, Your account is succesfully created.\\n\")\n",
        "\n",
        "# Let's fetch the data from database table\n",
        "df_sql = pd.read_sql_query(\"SELECT * from login\", conn).drop_duplicates(subset=['username', 'email'])\n",
        "df_sql1 = df_sql\n",
        "df_sql = df_sql.set_index(df_sql1['username'])\n",
        "display(df_sql)"
      ]
    },
    {
      "cell_type": "markdown",
      "id": "3dbb5fe9-f1e0-4e2a-ac92-9098e2884638",
      "metadata": {
        "id": "3dbb5fe9-f1e0-4e2a-ac92-9098e2884638"
      },
      "source": [
        "  "
      ]
    },
    {
      "cell_type": "markdown",
      "id": "bb0d0795-03b5-4580-9ea0-af0991adc2c3",
      "metadata": {
        "id": "bb0d0795-03b5-4580-9ea0-af0991adc2c3"
      },
      "source": [
        "Although, This program doesn't check, the email is real or fake, because we are not executing any program that send verification code or link to verify the account. But there are module available that can help you to send mail programmatically using python."
      ]
    },
    {
      "cell_type": "markdown",
      "id": "5a65d0cb-f780-46be-91dc-b31b682a2713",
      "metadata": {
        "id": "5a65d0cb-f780-46be-91dc-b31b682a2713"
      },
      "source": [
        "***"
      ]
    },
    {
      "cell_type": "markdown",
      "id": "a753b1cc-ce32-4c82-843c-a5eadc9a47c3",
      "metadata": {
        "id": "a753b1cc-ce32-4c82-843c-a5eadc9a47c3"
      },
      "source": [
        "## Sign in page"
      ]
    },
    {
      "cell_type": "code",
      "execution_count": null,
      "id": "2adfde54-e758-44ea-b391-6c698f95f2de",
      "metadata": {
        "id": "2adfde54-e758-44ea-b391-6c698f95f2de"
      },
      "outputs": [],
      "source": [
        "# Locked accounts will be stores here and display here\n",
        "temp_locked2 = []"
      ]
    },
    {
      "cell_type": "markdown",
      "id": "1f7bc5e2-3673-497d-b912-49962110c0af",
      "metadata": {
        "id": "1f7bc5e2-3673-497d-b912-49962110c0af"
      },
      "source": [
        "> __Note__ : Every time you re-run the cell, all the previous data will be removed automatically because we are assigning empty list to temp_locked variable."
      ]
    },
    {
      "cell_type": "code",
      "execution_count": null,
      "id": "12e426d0-7059-46a6-8295-8af5f6698e85",
      "metadata": {
        "colab": {
          "base_uri": "https://localhost:8080/"
        },
        "id": "12e426d0-7059-46a6-8295-8af5f6698e85",
        "outputId": "11f64e63-b528-4953-dcd3-a6eee6a08066"
      },
      "outputs": [
        {
          "output_type": "stream",
          "name": "stdout",
          "text": [
            "Temporary blocked accounts : []\n"
          ]
        }
      ],
      "source": [
        "print(f\"Temporary blocked accounts : {temp_locked2}\")"
      ]
    },
    {
      "cell_type": "code",
      "execution_count": null,
      "id": "665f00da-692d-4017-9286-c3d5a5ff86f5",
      "metadata": {
        "colab": {
          "base_uri": "https://localhost:8080/"
        },
        "id": "665f00da-692d-4017-9286-c3d5a5ff86f5",
        "outputId": "d68f85a2-ea57-4ee0-8467-7ce29d5e740d"
      },
      "outputs": [
        {
          "output_type": "stream",
          "name": "stdout",
          "text": [
            "Enter Username :tejasmahajan\n",
            "Welcome Back, Tejas Mahajan!\n",
            "Enter Password :tejas@123\n",
            "Login successful.\n"
          ]
        }
      ],
      "source": [
        "# Sign in page\n",
        "while True:\n",
        "    username = input('Enter Username :')\n",
        "    \n",
        "    # check username is in temp_locked or not\n",
        "    if username in temp_locked2:\n",
        "        print(\"Your account is locked. Try to login after 24 hours.\")\n",
        "        break\n",
        "    \n",
        "    result = c.execute(\"select name from login where username=?\", (username,)).fetchone()\n",
        "    if result is not None:\n",
        "        print(f\"Welcome Back, {result[0]}!\")\n",
        "    else:\n",
        "        print(\"Username may be incorrect or may not exist. If you are not registered yet, Create your account for free!\")\n",
        "        continue\n",
        "    \n",
        "    # ----- Nested loop for password -----\n",
        "\n",
        "    attempt = 5  # Setting attampts to 5 to limit the password inputs\n",
        "    while True:\n",
        "        password = input('Enter Password :')\n",
        "\n",
        "        # Check account is not temporary locked or password is valid if it is valid it will break the entire loop and prompt login successful.\n",
        "        if password == c.execute(\"SELECT password FROM login WHERE username=?\", (username,)).fetchone()[0] and username not in temp_locked2:\n",
        "            print(\"Login successful.\")\n",
        "            break\n",
        "\n",
        "        # Reduce the attempt if password is incorrect\n",
        "        if password != c.execute(\"SELECT password FROM login WHERE username=?\", (username,)).fetchone()[0]:\n",
        "            attempt = attempt - 1\n",
        "            if attempt == 1:\n",
        "                print(\"Warning! last attempt remaining. Your account will be locked for 24 hours.\")\n",
        "            else:\n",
        "                if attempt != 0:\n",
        "                    print(f\"Incorrect Password. {attempt} attempts remaining.\")\n",
        "\n",
        "\n",
        "            # Add username to temporary locked list, if attempt is 1 and not match with existing password\n",
        "            if attempt < 1 and password != c.execute(\"SELECT password FROM login WHERE username=?\", (username,)).fetchone()[0]:\n",
        "                print(\"Due to security reason, Your account is locked for 24 hours.\")\n",
        "                temp_locked2.append(username)\n",
        "                break\n",
        "\n",
        "            # continue the loop if conditions is not true\n",
        "            continue\n",
        "            \n",
        "            \n",
        "    # Break the main loop if all conditions is true\n",
        "    break\n",
        "        "
      ]
    },
    {
      "cell_type": "markdown",
      "id": "1e38c99a-ac95-481d-966e-fbf3d2a3961b",
      "metadata": {
        "id": "1e38c99a-ac95-481d-966e-fbf3d2a3961b"
      },
      "source": [
        "***"
      ]
    },
    {
      "cell_type": "markdown",
      "id": "7686dfcb-1575-472f-82f6-5b7e5872c36e",
      "metadata": {
        "id": "7686dfcb-1575-472f-82f6-5b7e5872c36e"
      },
      "source": [
        "## Change Password"
      ]
    },
    {
      "cell_type": "code",
      "execution_count": null,
      "id": "2a9ad6e6-b364-4085-9b5b-8ad60aa5e9c0",
      "metadata": {
        "colab": {
          "base_uri": "https://localhost:8080/",
          "height": 415
        },
        "id": "2a9ad6e6-b364-4085-9b5b-8ad60aa5e9c0",
        "outputId": "339740d4-8e50-45b4-e225-55fa7ac490a6"
      },
      "outputs": [
        {
          "output_type": "stream",
          "name": "stdout",
          "text": [
            "Enter Your Email :tejasmahajan@gmail.com\n",
            "Verification key is sent to your registered email : tejasmahajan@gmail.com\n",
            "Your OTP is : 862443\n",
            "Enter OTP To Complete Verification :862443\n",
            "Otp is verified. Wait a few seconds, your request is under process.\n",
            "Create New Password :tejas@123\n",
            "Re-enter New Password :tejas@123\n",
            "New password matched with existing password. Enter different password.\n",
            "Create New Password :tejas@123\n",
            "Re-enter New Password :tejasmahajan@123\n",
            "New password didn't matched.\n",
            "Create New Password :tejasmahajan@123\n",
            "Re-enter New Password :tejasmahajan@123\n",
            "Your Password is successfully changed.\n",
            "\n"
          ]
        },
        {
          "output_type": "display_data",
          "data": {
            "text/plain": [
              "                       name                   email          password  \\\n",
              "username                                                                \n",
              "tejas         Tejas Mahajan         tejas@gmail.com         tejas@123   \n",
              "tejasmahajan  Tejas Mahajan  tejasmahajan@gmail.com  tejasmahajan@123   \n",
              "\n",
              "             security_key  \n",
              "username                   \n",
              "tejas          D@1!g~pKyz  \n",
              "tejasmahajan   )Lx\n",
              "I^{7Xx  "
            ],
            "text/html": [
              "\n",
              "  <div id=\"df-8245d159-6171-43d0-ba6b-f3b8bf323d08\">\n",
              "    <div class=\"colab-df-container\">\n",
              "      <div>\n",
              "<style scoped>\n",
              "    .dataframe tbody tr th:only-of-type {\n",
              "        vertical-align: middle;\n",
              "    }\n",
              "\n",
              "    .dataframe tbody tr th {\n",
              "        vertical-align: top;\n",
              "    }\n",
              "\n",
              "    .dataframe thead th {\n",
              "        text-align: right;\n",
              "    }\n",
              "</style>\n",
              "<table border=\"1\" class=\"dataframe\">\n",
              "  <thead>\n",
              "    <tr style=\"text-align: right;\">\n",
              "      <th></th>\n",
              "      <th>name</th>\n",
              "      <th>email</th>\n",
              "      <th>password</th>\n",
              "      <th>security_key</th>\n",
              "    </tr>\n",
              "    <tr>\n",
              "      <th>username</th>\n",
              "      <th></th>\n",
              "      <th></th>\n",
              "      <th></th>\n",
              "      <th></th>\n",
              "    </tr>\n",
              "  </thead>\n",
              "  <tbody>\n",
              "    <tr>\n",
              "      <th>tejas</th>\n",
              "      <td>Tejas Mahajan</td>\n",
              "      <td>tejas@gmail.com</td>\n",
              "      <td>tejas@123</td>\n",
              "      <td>D@1!g~pKyz</td>\n",
              "    </tr>\n",
              "    <tr>\n",
              "      <th>tejasmahajan</th>\n",
              "      <td>Tejas Mahajan</td>\n",
              "      <td>tejasmahajan@gmail.com</td>\n",
              "      <td>tejasmahajan@123</td>\n",
              "      <td>)Lx\fI^{7Xx</td>\n",
              "    </tr>\n",
              "  </tbody>\n",
              "</table>\n",
              "</div>\n",
              "      <button class=\"colab-df-convert\" onclick=\"convertToInteractive('df-8245d159-6171-43d0-ba6b-f3b8bf323d08')\"\n",
              "              title=\"Convert this dataframe to an interactive table.\"\n",
              "              style=\"display:none;\">\n",
              "        \n",
              "  <svg xmlns=\"http://www.w3.org/2000/svg\" height=\"24px\"viewBox=\"0 0 24 24\"\n",
              "       width=\"24px\">\n",
              "    <path d=\"M0 0h24v24H0V0z\" fill=\"none\"/>\n",
              "    <path d=\"M18.56 5.44l.94 2.06.94-2.06 2.06-.94-2.06-.94-.94-2.06-.94 2.06-2.06.94zm-11 1L8.5 8.5l.94-2.06 2.06-.94-2.06-.94L8.5 2.5l-.94 2.06-2.06.94zm10 10l.94 2.06.94-2.06 2.06-.94-2.06-.94-.94-2.06-.94 2.06-2.06.94z\"/><path d=\"M17.41 7.96l-1.37-1.37c-.4-.4-.92-.59-1.43-.59-.52 0-1.04.2-1.43.59L10.3 9.45l-7.72 7.72c-.78.78-.78 2.05 0 2.83L4 21.41c.39.39.9.59 1.41.59.51 0 1.02-.2 1.41-.59l7.78-7.78 2.81-2.81c.8-.78.8-2.07 0-2.86zM5.41 20L4 18.59l7.72-7.72 1.47 1.35L5.41 20z\"/>\n",
              "  </svg>\n",
              "      </button>\n",
              "      \n",
              "  <style>\n",
              "    .colab-df-container {\n",
              "      display:flex;\n",
              "      flex-wrap:wrap;\n",
              "      gap: 12px;\n",
              "    }\n",
              "\n",
              "    .colab-df-convert {\n",
              "      background-color: #E8F0FE;\n",
              "      border: none;\n",
              "      border-radius: 50%;\n",
              "      cursor: pointer;\n",
              "      display: none;\n",
              "      fill: #1967D2;\n",
              "      height: 32px;\n",
              "      padding: 0 0 0 0;\n",
              "      width: 32px;\n",
              "    }\n",
              "\n",
              "    .colab-df-convert:hover {\n",
              "      background-color: #E2EBFA;\n",
              "      box-shadow: 0px 1px 2px rgba(60, 64, 67, 0.3), 0px 1px 3px 1px rgba(60, 64, 67, 0.15);\n",
              "      fill: #174EA6;\n",
              "    }\n",
              "\n",
              "    [theme=dark] .colab-df-convert {\n",
              "      background-color: #3B4455;\n",
              "      fill: #D2E3FC;\n",
              "    }\n",
              "\n",
              "    [theme=dark] .colab-df-convert:hover {\n",
              "      background-color: #434B5C;\n",
              "      box-shadow: 0px 1px 3px 1px rgba(0, 0, 0, 0.15);\n",
              "      filter: drop-shadow(0px 1px 2px rgba(0, 0, 0, 0.3));\n",
              "      fill: #FFFFFF;\n",
              "    }\n",
              "  </style>\n",
              "\n",
              "      <script>\n",
              "        const buttonEl =\n",
              "          document.querySelector('#df-8245d159-6171-43d0-ba6b-f3b8bf323d08 button.colab-df-convert');\n",
              "        buttonEl.style.display =\n",
              "          google.colab.kernel.accessAllowed ? 'block' : 'none';\n",
              "\n",
              "        async function convertToInteractive(key) {\n",
              "          const element = document.querySelector('#df-8245d159-6171-43d0-ba6b-f3b8bf323d08');\n",
              "          const dataTable =\n",
              "            await google.colab.kernel.invokeFunction('convertToInteractive',\n",
              "                                                     [key], {});\n",
              "          if (!dataTable) return;\n",
              "\n",
              "          const docLinkHtml = 'Like what you see? Visit the ' +\n",
              "            '<a target=\"_blank\" href=https://colab.research.google.com/notebooks/data_table.ipynb>data table notebook</a>'\n",
              "            + ' to learn more about interactive tables.';\n",
              "          element.innerHTML = '';\n",
              "          dataTable['output_type'] = 'display_data';\n",
              "          await google.colab.output.renderOutput(dataTable, element);\n",
              "          const docLink = document.createElement('div');\n",
              "          docLink.innerHTML = docLinkHtml;\n",
              "          element.appendChild(docLink);\n",
              "        }\n",
              "      </script>\n",
              "    </div>\n",
              "  </div>\n",
              "  "
            ]
          },
          "metadata": {}
        }
      ],
      "source": [
        "# Change Password Using Gmail\n",
        "while True:\n",
        "    email = input('Enter Your Email :')\n",
        "    \n",
        "    if not email.endswith('@gmail.com'):\n",
        "        print(\"Enter valid Email.\")\n",
        "        continue\n",
        "    \n",
        "    c.execute(\"SELECT email FROM login WHERE email=?\", (email,))\n",
        "    if c.fetchone() is None:\n",
        "        print('Your email may be incorrect or not registered with us. Enter valid email.')\n",
        "        continue\n",
        "    \n",
        "    break\n",
        "\n",
        "# Let's generate the otp\n",
        "key = str(random.randint(100000,999999))\n",
        "print(f\"Verification key is sent to your registered email : {email}\")\n",
        "\n",
        "# This will wait program till 3 seconds\n",
        "time.sleep(3)\n",
        "print(f\"Your OTP is : {key}\")\n",
        "\n",
        "# Verifying the otp\n",
        "while True:\n",
        "    otp = input('Enter OTP To Complete Verification :')\n",
        "\n",
        "    if otp != key:\n",
        "        print('Invalid OTP')\n",
        "        continue\n",
        "\n",
        "    # If verification is successful then it will do the further steps\n",
        "    if key == otp :\n",
        "        print(\"Otp is verified. Wait a few seconds, your request is under process.\")\n",
        "        break\n",
        "        \n",
        "# This will wait program till 3 seconds\n",
        "time.sleep(3)\n",
        "        \n",
        "while True:\n",
        "    password = input('Create New Password :')\n",
        "    password1 = input('Re-enter New Password :')\n",
        "\n",
        "    pattern = r'^(?=.*[A-Za-z])(?=.*\\d)(?=.*[@$#])[A-Za-z\\d@$#]+$'\n",
        "    if not (len(password) >= 8 and len(password1) > 8 and re.match(pattern, password) and re.match(pattern, password1)):\n",
        "        print(\"Password should be 8 characters long and a combination of letters [A-Z], digits [0-9], and punctuation marks [@#$].\")\n",
        "        continue\n",
        "\n",
        "    if password != password1 or password1 != password:\n",
        "        print(\"New password didn't matched.\")\n",
        "        continue\n",
        "\n",
        "    if password == c.execute(\"SELECT password FROM login WHERE email=?\", (email,)).fetchone()[0] or password1 == c.execute(\"SELECT password FROM login WHERE email=?\", (email,)).fetchone()[0]:\n",
        "        print(\"New password matched with existing password. Enter different password.\")\n",
        "        continue\n",
        "\n",
        "    if password == password1 and password != c.execute(\"SELECT password FROM login WHERE email=?\", (email,)).fetchone()[0]:\n",
        "\n",
        "        # this will replace old password with new password\n",
        "        c.execute(\"UPDATE login SET password=? WHERE email=?\", (password, email))\n",
        "        conn.commit()\n",
        "\n",
        "        print(\"Your Password is successfully changed.\\n\")\n",
        "        break\n",
        "\n",
        "            \n",
        "# Let's fetch the data from database table\n",
        "df_sql = pd.read_sql_query(\"SELECT * from login\", conn , index_col='username')\n",
        "display(df_sql)"
      ]
    },
    {
      "cell_type": "markdown",
      "id": "2508362b-0c3b-45c7-9180-7c7c4151bec9",
      "metadata": {
        "id": "2508362b-0c3b-45c7-9180-7c7c4151bec9"
      },
      "source": [
        "> __Note__ : Always run this so the changes will be commited and database connection will be disconnect."
      ]
    },
    {
      "cell_type": "code",
      "execution_count": null,
      "id": "3c9b63ae-288a-4af4-8767-9a46245a2dac",
      "metadata": {
        "colab": {
          "base_uri": "https://localhost:8080/"
        },
        "id": "3c9b63ae-288a-4af4-8767-9a46245a2dac",
        "outputId": "779e86e3-032f-4758-893c-9a7262a0e271"
      },
      "outputs": [
        {
          "output_type": "stream",
          "name": "stdout",
          "text": [
            "Connection is closed.\n"
          ]
        }
      ],
      "source": [
        "# Let's close the cursor object and connection to close the database connection\n",
        "conn.commit()\n",
        "c.close()\n",
        "conn.close()\n",
        "print(\"Connection is closed.\")"
      ]
    },
    {
      "cell_type": "markdown",
      "id": "57a79fa7-eb3b-49bf-ad7b-60567b49a587",
      "metadata": {
        "id": "57a79fa7-eb3b-49bf-ad7b-60567b49a587"
      },
      "source": [
        "****"
      ]
    },
    {
      "cell_type": "code",
      "execution_count": null,
      "id": "bde35a1f-0283-4ce3-b4ec-29bca0cc226a",
      "metadata": {
        "id": "bde35a1f-0283-4ce3-b4ec-29bca0cc226a"
      },
      "outputs": [],
      "source": []
    }
  ],
  "metadata": {
    "kernelspec": {
      "display_name": "Python 3 (ipykernel)",
      "language": "python",
      "name": "python3"
    },
    "language_info": {
      "codemirror_mode": {
        "name": "ipython",
        "version": 3
      },
      "file_extension": ".py",
      "mimetype": "text/x-python",
      "name": "python",
      "nbconvert_exporter": "python",
      "pygments_lexer": "ipython3",
      "version": "3.9.7"
    },
    "colab": {
      "provenance": [],
      "include_colab_link": true
    }
  },
  "nbformat": 4,
  "nbformat_minor": 5
}